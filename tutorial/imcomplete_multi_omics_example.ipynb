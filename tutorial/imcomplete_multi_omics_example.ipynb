{
 "cells": [
  {
   "cell_type": "code",
   "execution_count": 19,
   "metadata": {},
   "outputs": [],
   "source": [
    "import os\n",
    "import torch\n",
    "import pandas as pd\n",
    "import scanpy as sc\n",
    "import time"
   ]
  },
  {
   "cell_type": "code",
   "execution_count": 22,
   "metadata": {},
   "outputs": [],
   "source": [
    "import MVAADT"
   ]
  },
  {
   "cell_type": "code",
   "execution_count": 23,
   "metadata": {},
   "outputs": [],
   "source": [
    "\"\"\"\n",
    "Sets the device to GPU if available, otherwise defaults to CPU.\n",
    "Also sets the environment variable 'R_HOME' to the specified path.\n",
    "\n",
    "- `device`: A torch.device object set to 'cuda:1' if a GPU is available, otherwise 'cpu'.\n",
    "- `os.environ['R_HOME']`: Sets the R_HOME environment variable to the specified path for R installation.\n",
    "\"\"\"\n",
    "device = torch.device('cuda:1' if torch.cuda.is_available() else 'cpu')\n",
    "os.environ['R_HOME'] = '/home/zxx/miniforge3/envs/MDI/lib/R'"
   ]
  },
  {
   "cell_type": "code",
   "execution_count": 24,
   "metadata": {},
   "outputs": [],
   "source": [
    "# Specify data type\n",
    "data_type = 'Spatial-epigenome-transcriptome'\n",
    "\n",
    "# Fix random seed\n",
    "from MVAADT.preprocess import fix_seed\n",
    "random_seed = 2050\n",
    "fix_seed(random_seed)"
   ]
  },
  {
   "cell_type": "code",
   "execution_count": 25,
   "metadata": {},
   "outputs": [],
   "source": [
    "# read data\n",
    "file_fold = '/home/zxx/MVAADT/data/Dataset5_Mouse_BrainP22/' #please replace 'file_fold' with the download path\n",
    "\n",
    "adata_omics1 = sc.read_h5ad(file_fold + 'adata_RNA.h5ad')\n",
    "adata_omics2 = sc.read_h5ad(file_fold + 'adata_peaks_normalized.h5ad')\n",
    "\n",
    "adata_omics1.var_names_make_unique()\n",
    "adata_omics2.var_names_make_unique()"
   ]
  },
  {
   "cell_type": "code",
   "execution_count": 26,
   "metadata": {},
   "outputs": [],
   "source": [
    "from MVAADT.preprocess import clr_normalize_each_cell, pca, lsi\n",
    "\n",
    "# RNA\n",
    "sc.pp.filter_genes(adata_omics1, min_cells=10)\n",
    "sc.pp.filter_cells(adata_omics1, min_genes=200)\n",
    "\n",
    "sc.pp.highly_variable_genes(adata_omics1, flavor=\"seurat_v3\", n_top_genes=3000)\n",
    "sc.pp.normalize_total(adata_omics1, target_sum=1e4)\n",
    "sc.pp.log1p(adata_omics1)\n",
    "sc.pp.scale(adata_omics1)\n",
    "\n",
    "adata_omics1_high =  adata_omics1[:, adata_omics1.var['highly_variable']]\n",
    "adata_omics1.obsm['feat'] = pca(adata_omics1_high, n_comps=50)\n",
    "\n",
    "# ATAC\n",
    "adata_omics2 = adata_omics2[adata_omics1.obs_names].copy() # .obsm['X_lsi'] represents the dimension reduced feature\n",
    "if 'X_lsi' not in adata_omics2.obsm.keys():\n",
    "    sc.pp.highly_variable_genes(adata_omics2, flavor=\"seurat_v3\", n_top_genes=3000)\n",
    "    lsi(adata_omics2, use_highly_variable=False, n_components=51)\n",
    "\n",
    "adata_omics2.obsm['feat'] = adata_omics2.obsm['X_lsi'].copy()"
   ]
  },
  {
   "cell_type": "code",
   "execution_count": 27,
   "metadata": {},
   "outputs": [
    {
     "name": "stdout",
     "output_type": "stream",
     "text": [
      "(9196, 16304)\n",
      "(9196, 121068)\n"
     ]
    }
   ],
   "source": [
    "print(adata_omics1.shape)\n",
    "print(adata_omics2.shape)"
   ]
  },
  {
   "cell_type": "code",
   "execution_count": 9,
   "metadata": {},
   "outputs": [
    {
     "name": "stdout",
     "output_type": "stream",
     "text": [
      "Number of samples: 9196\n",
      "Number of mask samples: 1839\n",
      "Masked indices: [3085 1877 2404 ... 6022 5590  706]\n",
      "Masked indices number (1839,)\n",
      "Spatial of masking: [[0. 0.]\n",
      " [0. 0.]\n",
      " [0. 0.]\n",
      " ...\n",
      " [0. 0.]\n",
      " [0. 0.]\n",
      " [0. 0.]]\n",
      "Feat of masking: [[0. 0. 0. ... 0. 0. 0.]\n",
      " [0. 0. 0. ... 0. 0. 0.]\n",
      " [0. 0. 0. ... 0. 0. 0.]\n",
      " ...\n",
      " [0. 0. 0. ... 0. 0. 0.]\n",
      " [0. 0. 0. ... 0. 0. 0.]\n",
      " [0. 0. 0. ... 0. 0. 0.]]\n",
      "Spatial after masking: [[ 0.  0.]\n",
      " [82. 91.]\n",
      " [81. 91.]\n",
      " ...\n",
      " [ 3. 92.]\n",
      " [ 0.  0.]\n",
      " [ 1. 92.]]\n",
      "Feat after masking: [[ 0.          0.          0.         ...  0.          0.\n",
      "   0.        ]\n",
      " [ 2.15943573  0.12342816  0.16797002 ...  0.06809265  0.3945665\n",
      "  -0.08559207]\n",
      " [ 1.41322036 -0.51531836  0.43581047 ... -0.0847557   0.03057625\n",
      "  -0.11642883]\n",
      " ...\n",
      " [-1.18687397 -1.19506717  1.64410296 ...  0.26342073  0.03525148\n",
      "  -0.12239801]\n",
      " [ 0.          0.          0.         ...  0.          0.\n",
      "   0.        ]\n",
      " [ 1.29295069 -0.02662093  0.20745309 ... -0.51382089  0.07339005\n",
      "  -0.32658586]]\n",
      "Remaining samples after masking: 7357\n",
      "Original indices of remaining samples: [   1    2    3 ... 9192 9193 9195]\n",
      "Mask indices stored in adata_remain: [3085 1877 2404 ... 6022 5590  706]\n"
     ]
    }
   ],
   "source": [
    "from MVAADT.preprocess import mask_omics_data\n",
    "\n",
    "# mask omics1 data\n",
    "adata_omics1_masked, adata_omics1_remain, adata_omics1_miss = mask_omics_data(adata_omics1)"
   ]
  },
  {
   "cell_type": "code",
   "execution_count": 10,
   "metadata": {},
   "outputs": [],
   "source": [
    "from MVAADT.preprocess import construct_neighbor_graph\n",
    "data = construct_neighbor_graph(adata_omics1_masked, adata_omics2, datatype=data_type)"
   ]
  },
  {
   "cell_type": "code",
   "execution_count": null,
   "metadata": {},
   "outputs": [],
   "source": [
    "# define model\n",
    "from MVAADT.MVAADT_partial import Train_MVAADT_partial\n",
    "model = Train_MVAADT_partial(data, datatype=data_type, device=device)\n",
    "\n",
    "start_time = time.time()\n",
    "\n",
    "# train model\n",
    "output = model.train()\n",
    "end_time = time.time()\n",
    "training_time = end_time - start_time\n",
    "\n",
    "print(f\"Training completed in {training_time} seconds.\")"
   ]
  },
  {
   "cell_type": "code",
   "execution_count": null,
   "metadata": {},
   "outputs": [],
   "source": []
  },
  {
   "cell_type": "code",
   "execution_count": 12,
   "metadata": {},
   "outputs": [
    {
     "name": "stdout",
     "output_type": "stream",
     "text": [
      "KeysView(AxisArrays with keys: X_lsi, X_pca, X_umap, spatial, feat, GAN_Align)\n"
     ]
    }
   ],
   "source": [
    "adata = adata_omics2.copy()\n",
    "adata.obsm['GAN_Align'] = output['GAN_Align']\n",
    "print(adata.obsm.keys())"
   ]
  },
  {
   "cell_type": "code",
   "execution_count": 13,
   "metadata": {},
   "outputs": [
    {
     "name": "stderr",
     "output_type": "stream",
     "text": [
      "R[write to console]:                    __           __ \n",
      "   ____ ___  _____/ /_  _______/ /_\n",
      "  / __ `__ \\/ ___/ / / / / ___/ __/\n",
      " / / / / / / /__/ / /_/ (__  ) /_  \n",
      "/_/ /_/ /_/\\___/_/\\__,_/____/\\__/   version 6.1.1\n",
      "Type 'citation(\"mclust\")' for citing this R package in publications.\n",
      "\n"
     ]
    },
    {
     "name": "stdout",
     "output_type": "stream",
     "text": [
      "fitting ...\n",
      "  |======================================================================| 100%\n"
     ]
    }
   ],
   "source": [
    "from MVAADT.utils import clustering\n",
    "tool = 'mclust' # mclust, leiden, and louvain\n",
    "clustering(adata, key='GAN_Align', add_key='GAN_Align', n_clusters=18, method=tool, use_pca=False)"
   ]
  },
  {
   "cell_type": "code",
   "execution_count": null,
   "metadata": {},
   "outputs": [],
   "source": []
  },
  {
   "cell_type": "code",
   "execution_count": null,
   "metadata": {},
   "outputs": [],
   "source": [
    "# visualization\n",
    "import matplotlib.pyplot as plt\n",
    "fig, ax_list = plt.subplots(1, 2, figsize=(14, 5))\n",
    "sc.pp.neighbors(adata, use_rep='GAN_Align', n_neighbors=30)\n",
    "sc.tl.umap(adata)\n",
    "\n",
    "sc.pl.umap(adata, color='GAN_Align', ax=ax_list[0], title='MVAADT(RNA Mask)', s=60, show=False)\n",
    "sc.pl.embedding(adata, basis='spatial', color='GAN_Align', ax=ax_list[1], title='MVAADT(RNA Mask)', s=90, show=False)\n",
    "\n",
    "plt.tight_layout(w_pad=0.3)\n",
    "plt.show()\n",
    "\n",
    "# 分别把左右两个图保存下来\n",
    "fig.savefig('/home/zxx/MVAADT/result/Dataset5_Mouse_Brain_P22/MVAADT_RNA_masked.png',dpi=300)\n",
    "fig.savefig('/home/zxx/MVAADT/result/Dataset5_Mouse_Brain_P22/MVAADT_RNA_masked.pdf',dpi=300)"
   ]
  }
 ],
 "metadata": {
  "kernelspec": {
   "display_name": "MDI",
   "language": "python",
   "name": "python3"
  },
  "language_info": {
   "codemirror_mode": {
    "name": "ipython",
    "version": 3
   },
   "file_extension": ".py",
   "mimetype": "text/x-python",
   "name": "python",
   "nbconvert_exporter": "python",
   "pygments_lexer": "ipython3",
   "version": "3.8.15"
  }
 },
 "nbformat": 4,
 "nbformat_minor": 2
}
