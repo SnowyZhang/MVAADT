{
 "cells": [
  {
   "cell_type": "code",
   "execution_count": 1,
   "metadata": {},
   "outputs": [],
   "source": [
    "import os\n",
    "import torch\n",
    "import pandas as pd\n",
    "import scanpy as sc"
   ]
  },
  {
   "cell_type": "code",
   "execution_count": 2,
   "metadata": {},
   "outputs": [],
   "source": [
    "import MVAADT"
   ]
  },
  {
   "cell_type": "code",
   "execution_count": 3,
   "metadata": {},
   "outputs": [],
   "source": [
    "\"\"\"\n",
    "Sets the device to GPU if available, otherwise defaults to CPU.\n",
    "Also sets the environment variable 'R_HOME' to the specified path.\n",
    "\n",
    "- `device`: A torch.device object set to 'cuda:1' if a GPU is available, otherwise 'cpu'.\n",
    "- `os.environ['R_HOME']`: Sets the R_HOME environment variable to the specified path for R installation.\n",
    "\"\"\"\n",
    "device = torch.device('cuda:1' if torch.cuda.is_available() else 'cpu')\n",
    "os.environ['R_HOME'] = '/home/zxx/miniforge3/envs/MDI/lib/R'"
   ]
  },
  {
   "cell_type": "code",
   "execution_count": 5,
   "metadata": {},
   "outputs": [
    {
     "name": "stdout",
     "output_type": "stream",
     "text": [
      "(11137, 11296)\n",
      "(11137, 210)\n"
     ]
    }
   ],
   "source": [
    "# read data\n",
    "file_fold = '/home/zxx/MVAADT/data/Dataset3_PBMC/' #please replace 'file_fold' with the download path\n",
    "\n",
    "adata_omics1 = sc.read_h5ad(file_fold + 'rna.h5ad')\n",
    "adata_omics2 = sc.read_h5ad(file_fold + 'protein_expression.h5ad')\n",
    "\n",
    "adata_omics1.var_names_make_unique()\n",
    "adata_omics2.var_names_make_unique()\n",
    "\n",
    "print(adata_omics1.shape)\n",
    "print(adata_omics2.shape)"
   ]
  },
  {
   "cell_type": "code",
   "execution_count": 39,
   "metadata": {},
   "outputs": [],
   "source": [
    "# Specify data type\n",
    "data_type = 'xxx' # please replace 'xxx' with Specify data type\n",
    "\n",
    "# Fix random seed\n",
    "from MVAADT.preprocess import fix_seed\n",
    "random_seed = 2050\n",
    "fix_seed(random_seed)"
   ]
  },
  {
   "cell_type": "code",
   "execution_count": 40,
   "metadata": {},
   "outputs": [],
   "source": [
    "from MVAADT.preprocess import clr_normalize_each_cell, pca\n",
    "\n",
    "# RNA\n",
    "sc.pp.filter_genes(adata_omics1, min_cells=10)\n",
    "sc.pp.filter_cells(adata_omics1, min_genes=80)\n",
    "\n",
    "sc.pp.filter_genes(adata_omics2, min_cells=50)\n",
    "adata_omics2 = adata_omics2[adata_omics1.obs_names].copy()\n",
    "\n",
    "sc.pp.highly_variable_genes(adata_omics1, flavor=\"seurat_v3\", n_top_genes=3000)\n",
    "sc.pp.normalize_total(adata_omics1, target_sum=1e4)\n",
    "sc.pp.log1p(adata_omics1)\n",
    "\n",
    "adata_omics1_high =  adata_omics1[:, adata_omics1.var['highly_variable']]\n",
    "adata_omics1.obsm['feat'] = pca(adata_omics1_high, n_comps=adata_omics2.n_vars-1)\n",
    "\n",
    "# Protein\n",
    "adata_omics2 = clr_normalize_each_cell(adata_omics2)\n",
    "adata_omics2.obsm['feat'] = pca(adata_omics2, n_comps=adata_omics2.n_vars-1)"
   ]
  },
  {
   "cell_type": "code",
   "execution_count": 41,
   "metadata": {},
   "outputs": [],
   "source": [
    "from MVAADT.preprocess import construct_neighbor_graph_single_cell\n",
    "data = construct_neighbor_graph_single_cell(adata_omics1, adata_omics2, datatype=data_type)"
   ]
  },
  {
   "cell_type": "code",
   "execution_count": null,
   "metadata": {},
   "outputs": [],
   "source": [
    "# define model\n",
    "from MVAADT.MVAADT_SC import Train_MVAADT_SC\n",
    "model = Train_MVAADT_SC(data, datatype=data_type, device=device)\n",
    "\n",
    "# train model\n",
    "output = model.train()"
   ]
  },
  {
   "cell_type": "code",
   "execution_count": 43,
   "metadata": {},
   "outputs": [],
   "source": [
    "adata = adata_omics1.copy()\n",
    "adata.obsm['emb_latent_omics1'] = output['emb_latent_omics1']\n",
    "adata.obsm['emb_latent_omics2'] = output['emb_latent_omics2']\n",
    "adata.obsm['GAN_Align'] = output['GAN_Align']"
   ]
  }
 ],
 "metadata": {
  "kernelspec": {
   "display_name": "MDI",
   "language": "python",
   "name": "python3"
  },
  "language_info": {
   "codemirror_mode": {
    "name": "ipython",
    "version": 3
   },
   "file_extension": ".py",
   "mimetype": "text/x-python",
   "name": "python",
   "nbconvert_exporter": "python",
   "pygments_lexer": "ipython3",
   "version": "3.8.15"
  }
 },
 "nbformat": 4,
 "nbformat_minor": 2
}
