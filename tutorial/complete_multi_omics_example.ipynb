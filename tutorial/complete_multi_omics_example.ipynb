{
 "cells": [
  {
   "cell_type": "code",
   "execution_count": 1,
   "metadata": {},
   "outputs": [],
   "source": [
    "import os\n",
    "import torch\n",
    "import pandas as pd\n",
    "import scanpy as sc"
   ]
  },
  {
   "cell_type": "code",
   "execution_count": 2,
   "metadata": {},
   "outputs": [],
   "source": [
    "import MVAADT"
   ]
  },
  {
   "cell_type": "code",
   "execution_count": 3,
   "metadata": {},
   "outputs": [],
   "source": [
    "\"\"\"\n",
    "Sets the device to GPU if available, otherwise defaults to CPU.\n",
    "Also sets the environment variable 'R_HOME' to the specified path.\n",
    "\n",
    "- `device`: A torch.device object set to 'cuda:1' if a GPU is available, otherwise 'cpu'.\n",
    "- `os.environ['R_HOME']`: Sets the R_HOME environment variable to the specified path for R installation.\n",
    "\"\"\"\n",
    "device = torch.device('cuda:1' if torch.cuda.is_available() else 'cpu')\n",
    "os.environ['R_HOME'] = '/home/zxx/miniforge3/envs/MDI/lib/R'"
   ]
  },
  {
   "cell_type": "code",
   "execution_count": 4,
   "metadata": {},
   "outputs": [
    {
     "name": "stdout",
     "output_type": "stream",
     "text": [
      "(3484, 18085)\n",
      "(3484, 31)\n"
     ]
    },
    {
     "name": "stderr",
     "output_type": "stream",
     "text": [
      "/home/zxx/miniforge3/envs/MDI/lib/python3.8/site-packages/anndata/_core/anndata.py:1830: UserWarning: Variable names are not unique. To make them unique, call `.var_names_make_unique`.\n",
      "  utils.warn_names_duplicates(\"var\")\n",
      "/home/zxx/miniforge3/envs/MDI/lib/python3.8/site-packages/anndata/_core/anndata.py:1830: UserWarning: Variable names are not unique. To make them unique, call `.var_names_make_unique`.\n",
      "  utils.warn_names_duplicates(\"var\")\n"
     ]
    }
   ],
   "source": [
    "# 导入必要的库\n",
    "import os\n",
    "import torch\n",
    "import pandas as pd\n",
    "import scanpy as sc\n",
    "import matplotlib.pyplot as plt\n",
    "\n",
    "# 读取数据\n",
    "file_fold = '/home/zxx/MVAADT/data/Dataset1_Lymph_Node1/' # replace with your own file path\n",
    "\n",
    "adata_omics1 = sc.read_h5ad(file_fold + 'adata_RNA.h5ad')\n",
    "adata_omics2 = sc.read_h5ad(file_fold + 'adata_ADT.h5ad')\n",
    "\n",
    "\n",
    "adata_omics1.var_names_make_unique()\n",
    "adata_omics2.var_names_make_unique()\n",
    "\n",
    "print(adata_omics1.shape)\n",
    "print(adata_omics2.shape)\n"
   ]
  },
  {
   "cell_type": "code",
   "execution_count": 5,
   "metadata": {},
   "outputs": [],
   "source": [
    "# Specify data type\n",
    "data_type = '10x'\n",
    "\n",
    "# Fix random seed\n",
    "from MVAADT.preprocess import fix_seed\n",
    "random_seed = 2050\n",
    "fix_seed(random_seed)"
   ]
  },
  {
   "cell_type": "code",
   "execution_count": 6,
   "metadata": {},
   "outputs": [
    {
     "name": "stdout",
     "output_type": "stream",
     "text": [
      "(3484, 17954)\n",
      "(3484, 31)\n"
     ]
    }
   ],
   "source": [
    "from MVAADT.preprocess import clr_normalize_each_cell, pca\n",
    "\n",
    "\n",
    "# RNA\n",
    "sc.pp.filter_genes(adata_omics1, min_cells=10)\n",
    "sc.pp.highly_variable_genes(adata_omics1, flavor=\"seurat_v3\", n_top_genes=3000)\n",
    "sc.pp.normalize_total(adata_omics1, target_sum=1e4)\n",
    "sc.pp.log1p(adata_omics1)\n",
    "sc.pp.scale(adata_omics1)\n",
    "\n",
    "adata_omics1_high =  adata_omics1[:, adata_omics1.var['highly_variable']]\n",
    "adata_omics1.obsm['feat'] = pca(adata_omics1_high, n_comps=adata_omics2.n_vars-1)\n",
    "\n",
    "# Protein\n",
    "adata_omics2 = clr_normalize_each_cell(adata_omics2)\n",
    "sc.pp.scale(adata_omics2)\n",
    "adata_omics2.obsm['feat'] = pca(adata_omics2, n_comps=adata_omics2.n_vars-1)\n",
    "\n",
    "#查看数据维度\n",
    "print(adata_omics1.shape)\n",
    "print(adata_omics2.shape)"
   ]
  },
  {
   "cell_type": "code",
   "execution_count": 7,
   "metadata": {},
   "outputs": [
    {
     "name": "stdout",
     "output_type": "stream",
     "text": [
      "cell_position_omics1: (3484, 2)\n",
      "adata_omics1.uns['adj_spatial']:           x     y  value\n",
      "0         0   193    1.0\n",
      "1         0  3051    1.0\n",
      "2         0  1490    1.0\n",
      "3         1   781    1.0\n",
      "4         1  3088    1.0\n",
      "...     ...   ...    ...\n",
      "10447  3482  1802    1.0\n",
      "10448  3482    38    1.0\n",
      "10449  3483  2974    1.0\n",
      "10450  3483  1935    1.0\n",
      "10451  3483  2264    1.0\n",
      "\n",
      "[10452 rows x 3 columns]\n"
     ]
    }
   ],
   "source": [
    "from MVAADT.preprocess import construct_neighbor_graph\n",
    "data = construct_neighbor_graph(adata_omics1, adata_omics2, datatype=data_type)"
   ]
  },
  {
   "cell_type": "code",
   "execution_count": 8,
   "metadata": {},
   "outputs": [
    {
     "name": "stderr",
     "output_type": "stream",
     "text": [
      "/home/zxx/MVAADT/MVAADT/preprocess.py:197: UserWarning: torch.sparse.SparseTensor(indices, values, shape, *, device=) is deprecated.  Please use torch.sparse_coo_tensor(indices, values, shape, dtype=, device=). (Triggered internally at ../torch/csrc/utils/tensor_new.cpp:641.)\n",
      "  return torch.sparse.FloatTensor(indices, values, shape)\n",
      "  0%|          | 0/800 [00:00<?, ?it/s]/home/zxx/MVAADT/MVAADT/model.py:290: UserWarning: Implicit dimension choice for softmax has been deprecated. Change the call to include dim=X as an argument.\n",
      "  self.alpha = F.softmax(torch.squeeze(self.vu) + 1e-6)\n",
      "100%|██████████| 800/800 [00:16<00:00, 47.72it/s]\n"
     ]
    },
    {
     "name": "stdout",
     "output_type": "stream",
     "text": [
      "Model training finished!\n",
      "\n"
     ]
    }
   ],
   "source": [
    "# define model\n",
    "from MVAADT.MVAADT import Train_MVAADT\n",
    "model = Train_MVAADT(data, datatype=data_type, device=device)\n",
    "\n",
    "# train model\n",
    "output = model.train()"
   ]
  },
  {
   "cell_type": "code",
   "execution_count": 9,
   "metadata": {},
   "outputs": [],
   "source": [
    "adata = adata_omics1.copy()\n",
    "adata.obsm['emb_latent_omics1'] = output['emb_latent_omics1'].copy()\n",
    "adata.obsm['emb_latent_omics2'] = output['emb_latent_omics2'].copy()\n",
    "adata.obsm['GAN_Align'] = output['GAN_Align'].copy()"
   ]
  },
  {
   "cell_type": "code",
   "execution_count": 10,
   "metadata": {},
   "outputs": [
    {
     "name": "stderr",
     "output_type": "stream",
     "text": [
      "R[write to console]:                    __           __ \n",
      "   ____ ___  _____/ /_  _______/ /_\n",
      "  / __ `__ \\/ ___/ / / / / ___/ __/\n",
      " / / / / / / /__/ / /_/ (__  ) /_  \n",
      "/_/ /_/ /_/\\___/_/\\__,_/____/\\__/   version 6.1.1\n",
      "Type 'citation(\"mclust\")' for citing this R package in publications.\n",
      "\n"
     ]
    },
    {
     "name": "stdout",
     "output_type": "stream",
     "text": [
      "fitting ...\n",
      "  |======================================================================| 100%\n"
     ]
    }
   ],
   "source": [
    "from MVAADT.utils import clustering\n",
    "tool = 'mclust' # mclust, leiden, and louvain\n",
    "clustering(adata, key='GAN_Align', add_key='GAN_Align', n_clusters=6, method=tool, use_pca=False)"
   ]
  },
  {
   "cell_type": "code",
   "execution_count": null,
   "metadata": {},
   "outputs": [],
   "source": [
    "import pandas as pd\n",
    "from sklearn.metrics import (\n",
    "    adjusted_rand_score, normalized_mutual_info_score, adjusted_mutual_info_score,\n",
    "    v_measure_score, mutual_info_score, homogeneity_score\n",
    ")\n",
    "\n",
    "def load_annotation(file_path):\n",
    "    \"\"\"读取注释文件\"\"\"\n",
    "    return pd.read_csv(file_path)\n",
    "\n",
    "def convert_to_categorical(annotation, column_name):\n",
    "    \"\"\"将注释信息转换为分类变量\"\"\"\n",
    "    return pd.Categorical(annotation[column_name], categories=annotation[column_name].unique(), ordered=True)\n",
    "\n",
    "def calculate_clustering_metrics(true_labels, predicted_labels):\n",
    "    \"\"\"计算聚类评价指标\"\"\"\n",
    "    metrics = {\n",
    "        'ARI': adjusted_rand_score(true_labels, predicted_labels),\n",
    "        'NMI': normalized_mutual_info_score(true_labels, predicted_labels),\n",
    "        'AMI': adjusted_mutual_info_score(true_labels, predicted_labels),\n",
    "        'v_measure': v_measure_score(true_labels, predicted_labels),\n",
    "        'mutual_info': mutual_info_score(true_labels, predicted_labels),\n",
    "        'homogeneity': homogeneity_score(true_labels, predicted_labels)\n",
    "    }\n",
    "    return metrics\n",
    "\n",
    "def print_metrics(metrics):\n",
    "    \"\"\"打印聚类评价指标\"\"\"\n",
    "    for name, value in metrics.items():\n",
    "        print(f'{name}: {value}')\n",
    "\n",
    "# 主程序\n",
    "file_fold = '/home/zxx/MVAADT/data/Dataset1_Lymph_Node1/'  # 请替换为实际文件路径\n",
    "annotation = load_annotation(file_fold + 'annotation.csv')\n",
    "adata.obs['celltype'] = convert_to_categorical(annotation, 'manual-anno')\n",
    "metrics = calculate_clustering_metrics(adata.obs['celltype'], adata.obs['GAN_Align'])\n",
    "print_metrics(metrics)"
   ]
  },
  {
   "cell_type": "code",
   "execution_count": 17,
   "metadata": {},
   "outputs": [],
   "source": [
    "import pandas as pd\n",
    "\n",
    "file_path = 'xxx' #replace with your own file path\n",
    "# read evaluation file\n",
    "evaluation = pd.read_csv(file_path)\n",
    "# update evaluation file\n",
    "metrics_to_update = ['ARI', 'NMI', 'AMI', 'v_measure', 'mutual_info', 'homogeneity']\n",
    "for metric in metrics_to_update:\n",
    "    evaluation.loc['RNA with Translation(+D1)', metric] = metrics[metric]\n",
    "# save evaluation file\n",
    "evaluation.to_csv(file_path, index=False)"
   ]
  }
 ],
 "metadata": {
  "kernelspec": {
   "display_name": "MDI",
   "language": "python",
   "name": "python3"
  },
  "language_info": {
   "codemirror_mode": {
    "name": "ipython",
    "version": 3
   },
   "file_extension": ".py",
   "mimetype": "text/x-python",
   "name": "python",
   "nbconvert_exporter": "python",
   "pygments_lexer": "ipython3",
   "version": "3.8.15"
  }
 },
 "nbformat": 4,
 "nbformat_minor": 2
}
